{
 "cells": [
  {
   "cell_type": "code",
   "execution_count": 1,
   "metadata": {},
   "outputs": [
    {
     "name": "stdout",
     "output_type": "stream",
     "text": [
      "Requirement already satisfied: numpy in /home/t-keita/.local/lib/python3.8/site-packages (1.20.1)\r\n",
      "Requirement already satisfied: seaborn in /home/t-keita/.local/lib/python3.8/site-packages (0.11.1)\r\n",
      "Requirement already satisfied: matplotlib>=2.2 in /home/t-keita/.local/lib/python3.8/site-packages (from seaborn) (3.3.4)\r\n",
      "Requirement already satisfied: scipy>=1.0 in /home/t-keita/.local/lib/python3.8/site-packages (from seaborn) (1.6.1)\r\n",
      "Requirement already satisfied: pandas>=0.23 in /home/t-keita/.local/lib/python3.8/site-packages (from seaborn) (1.2.3)\r\n",
      "Requirement already satisfied: cycler>=0.10 in /home/t-keita/.local/lib/python3.8/site-packages (from matplotlib>=2.2->seaborn) (0.10.0)\r\n",
      "Requirement already satisfied: python-dateutil>=2.1 in /usr/lib/python3/dist-packages (from matplotlib>=2.2->seaborn) (2.7.3)\r\n",
      "Requirement already satisfied: pillow>=6.2.0 in /usr/lib/python3/dist-packages (from matplotlib>=2.2->seaborn) (7.0.0)\r\n",
      "Requirement already satisfied: kiwisolver>=1.0.1 in /home/t-keita/.local/lib/python3.8/site-packages (from matplotlib>=2.2->seaborn) (1.3.1)\r\n",
      "Requirement already satisfied: pyparsing!=2.0.4,!=2.1.2,!=2.1.6,>=2.0.3 in /home/t-keita/.local/lib/python3.8/site-packages (from matplotlib>=2.2->seaborn) (2.4.7)\r\n",
      "Requirement already satisfied: pytz>=2017.3 in /usr/lib/python3/dist-packages (from pandas>=0.23->seaborn) (2019.3)\r\n",
      "Requirement already satisfied: six in /usr/lib/python3/dist-packages (from cycler>=0.10->matplotlib>=2.2->seaborn) (1.14.0)\r\n"
     ]
    }
   ],
   "source": [
    "!pip3 install numpy seaborn"
   ]
  },
  {
   "cell_type": "code",
   "execution_count": 15,
   "metadata": {},
   "outputs": [],
   "source": [
    "import numpy as np\n",
    "import seaborn as sns; sns.set_theme()"
   ]
  },
  {
   "cell_type": "code",
   "execution_count": null,
   "metadata": {},
   "outputs": [],
   "source": [
    "data = array([\n",
    "[  0,100, 20, 19, 20, 21,100,100,100,100,100,100,100, 63, 62, 61, 60, 59, 58, 57],\n",
    "[  1,100, 19, 18, 19, 20,100,100,100,100,100,100,100,100, 63, 62, 61,100, 57, 56],\n",
    "[  2,100, 18, 17, 18, 19, 20, 21,100,100,100,100,100,100,100, 63, 62,100, 56, 55],\n",
    "[  3,100, 17, 16, 17, 18,100, 22,100,100,100,100,100,100,100,100, 63,100,100, 54],\n",
    "[  4,  5,100, 15,100, 19, 20, 21, 22, 23,100,100,100,100,100,100,100,100,100, 53],\n",
    "[  5,  6,100, 14,100, 20,100, 22, 23,100, 27,100,100,100,100,100,100,100,100, 52],\n",
    "[  6,100, 14, 13, 14,100, 24, 23, 24, 25, 26,100,100,100,100,100,100,100, 52, 51],\n",
    "[  7,  8,100, 12, 13,100, 25, 24, 25, 26,100, 42, 41,100,100,100,100,100, 51, 50],\n",
    "[100,  9, 10, 11,100, 27, 26, 25, 26, 27,100, 41, 40, 41, 42,100,100,100, 50, 49],\n",
    "[100, 10, 11,100,100, 28, 27, 26,100,100, 41, 40, 39, 40, 41, 42,100, 50, 49, 48],\n",
    "[ 12, 11, 12,100, 30, 29, 28,100, 32, 33,100, 39, 38, 39, 40, 41, 42,100,100, 47],\n",
    "[ 13, 12,100, 16,100, 30, 29, 30, 31, 32, 33,100, 37, 38, 39, 40, 41,100,100, 46],\n",
    "[ 14, 13, 14, 15, 16,100, 30, 31, 32,100, 34, 35, 36,100,100,100, 42, 43, 44, 45],\n",
    "[ 15, 14, 15, 16, 17,100, 31, 32, 33,100, 35, 36, 37, 38, 39, 40, 41,100,100, 46]]\n"
   ]
  },
  {
   "cell_type": "code",
   "execution_count": 14,
   "metadata": {
    "scrolled": true
   },
   "outputs": [
    {
     "name": "stdout",
     "output_type": "stream",
     "text": [
      "DEBUG:matplotlib.colorbar:locator: <matplotlib.colorbar._ColorbarAutoLocator object at 0x7fccab3280a0>\n",
      "DEBUG:matplotlib.colorbar:Using auto colorbar locator <matplotlib.colorbar._ColorbarAutoLocator object at 0x7fccab3280a0> on colorbar\n",
      "DEBUG:matplotlib.colorbar:Setting pcolormesh\n",
      "DEBUG:matplotlib.axes._base:top of axes not in the figure, so title not moved\n"
     ]
    },
    {
     "data": {
      "text/plain": [
       "array([[0.17465839, 0.327988  , 0.68034867, 0.06320762, 0.60724937,\n",
       "        0.4776465 , 0.28399998, 0.23841328, 0.51451274, 0.36792758,\n",
       "        0.45651989, 0.33747738],\n",
       "       [0.97049369, 0.13343943, 0.09680395, 0.34339173, 0.5910269 ,\n",
       "        0.65917647, 0.39725675, 0.99927799, 0.351893  , 0.72140667,\n",
       "        0.63758269, 0.81305386],\n",
       "       [0.97622566, 0.88979366, 0.76456197, 0.69824848, 0.33549817,\n",
       "        0.14768558, 0.062636  , 0.2419017 , 0.43228148, 0.52199627,\n",
       "        0.77308355, 0.95874092],\n",
       "       [0.11732048, 0.10700414, 0.58969472, 0.74539807, 0.84815038,\n",
       "        0.93583208, 0.98342624, 0.39980169, 0.38033518, 0.14780868,\n",
       "        0.68493444, 0.65676196],\n",
       "       [0.8620626 , 0.09725799, 0.49777691, 0.58108193, 0.24155704,\n",
       "        0.16902541, 0.85958084, 0.05853492, 0.4706209 , 0.115834  ,\n",
       "        0.45705876, 0.97996233],\n",
       "       [0.42370635, 0.85712492, 0.11731556, 0.27125208, 0.40379274,\n",
       "        0.39981214, 0.67138348, 0.34471813, 0.71376687, 0.6391869 ,\n",
       "        0.39916115, 0.43176013],\n",
       "       [0.6145277 , 0.07004219, 0.82240674, 0.65342116, 0.72634246,\n",
       "        0.536923  , 0.11047711, 0.40503561, 0.40537358, 0.32104299,\n",
       "        0.02995032, 0.73725424],\n",
       "       [0.10978446, 0.60630813, 0.7032175 , 0.63478632, 0.95914225,\n",
       "        0.10329816, 0.86716716, 0.02919023, 0.53491685, 0.40424362,\n",
       "        0.52418386, 0.36509988],\n",
       "       [0.19056691, 0.0191229 , 0.51814981, 0.84277686, 0.37321596,\n",
       "        0.22286382, 0.080532  , 0.08531092, 0.22139645, 0.10001406,\n",
       "        0.2650397 , 0.06614946],\n",
       "       [0.06560487, 0.85627618, 0.16212026, 0.55968241, 0.77345554,\n",
       "        0.45640957, 0.15336888, 0.19959614, 0.43298421, 0.52823409,\n",
       "        0.34944029, 0.7814796 ]])"
      ]
     },
     "execution_count": 14,
     "metadata": {},
     "output_type": "execute_result"
    },
    {
     "name": "stdout",
     "output_type": "stream",
     "text": [
      "DEBUG:matplotlib.axes._base:top of axes not in the figure, so title not moved\n",
      "DEBUG:matplotlib.axes._base:top of axes not in the figure, so title not moved\n",
      "DEBUG:matplotlib.axes._base:top of axes not in the figure, so title not moved\n",
      "DEBUG:matplotlib.axes._base:top of axes not in the figure, so title not moved\n"
     ]
    },
    {
     "data": {
      "image/png": "[encoded data removed]",
      "text/plain": [
       "<Figure size 432x288 with 2 Axes>"
      ]
     },
     "metadata": {},
     "output_type": "display_data"
    }
   ],
   "source": [
    "uniform_data = np.random.rand(10, 12)\n",
    "ax = sns.heatmap(uniform_data)\n",
    "uniform_data"
   ]
  }
 ],
 "metadata": {
  "kernelspec": {
   "display_name": "Python 3",
   "language": "python",
   "name": "python3"
  },
  "language_info": {
   "codemirror_mode": {
    "name": "ipython",
    "version": 3
   },
   "file_extension": ".py",
   "mimetype": "text/x-python",
   "name": "python",
   "nbconvert_exporter": "python",
   "pygments_lexer": "ipython3",
   "version": "3.8.5"
  }
 },
 "nbformat": 4,
 "nbformat_minor": 4
}
