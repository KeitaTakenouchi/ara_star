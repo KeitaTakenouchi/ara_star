{
 "cells": [
  {
   "cell_type": "code",
   "execution_count": 1,
   "metadata": {},
   "outputs": [
    {
     "name": "stdout",
     "output_type": "stream",
     "text": [
      "Requirement already satisfied: numpy in /home/t-keita/.local/lib/python3.8/site-packages (1.20.1)\r\n",
      "Requirement already satisfied: seaborn in /home/t-keita/.local/lib/python3.8/site-packages (0.11.1)\r\n",
      "Requirement already satisfied: matplotlib>=2.2 in /home/t-keita/.local/lib/python3.8/site-packages (from seaborn) (3.3.4)\r\n",
      "Requirement already satisfied: scipy>=1.0 in /home/t-keita/.local/lib/python3.8/site-packages (from seaborn) (1.6.1)\r\n",
      "Requirement already satisfied: pandas>=0.23 in /home/t-keita/.local/lib/python3.8/site-packages (from seaborn) (1.2.3)\r\n",
      "Requirement already satisfied: cycler>=0.10 in /home/t-keita/.local/lib/python3.8/site-packages (from matplotlib>=2.2->seaborn) (0.10.0)\r\n",
      "Requirement already satisfied: python-dateutil>=2.1 in /usr/lib/python3/dist-packages (from matplotlib>=2.2->seaborn) (2.7.3)\r\n",
      "Requirement already satisfied: pillow>=6.2.0 in /usr/lib/python3/dist-packages (from matplotlib>=2.2->seaborn) (7.0.0)\r\n",
      "Requirement already satisfied: kiwisolver>=1.0.1 in /home/t-keita/.local/lib/python3.8/site-packages (from matplotlib>=2.2->seaborn) (1.3.1)\r\n",
      "Requirement already satisfied: pyparsing!=2.0.4,!=2.1.2,!=2.1.6,>=2.0.3 in /home/t-keita/.local/lib/python3.8/site-packages (from matplotlib>=2.2->seaborn) (2.4.7)\r\n",
      "Requirement already satisfied: pytz>=2017.3 in /usr/lib/python3/dist-packages (from pandas>=0.23->seaborn) (2019.3)\r\n",
      "Requirement already satisfied: six in /usr/lib/python3/dist-packages (from cycler>=0.10->matplotlib>=2.2->seaborn) (1.14.0)\r\n"
     ]
    }
   ],
   "source": [
    "!pip3 install numpy seaborn"
   ]
  },
  {
   "cell_type": "code",
   "execution_count": 15,
   "metadata": {},
   "outputs": [],
   "source": [
    "import numpy as np\n",
    "import seaborn as sns; sns.set_theme()"
   ]
  },
  {
   "cell_type": "code",
   "execution_count": 50,
   "metadata": {},
   "outputs": [],
   "source": [
    "data = np.array([\n",
    "\t[  0,-30,  6,  7,  8,  9,-30, 15, 14, 13, 14, 15,-30, 23, 22, 23, 24, 25, 26, 27],\n",
    "\t[  1,-30,  5,  6,  7,  8,-30,-30,-30, 12, 13, 14,-30, 22, 21, 22, 23,-30, 27, 28],\n",
    "\t[  2,  3,  4,  5,  6,  7,  8,  9, 10, 11, 12, 13,-30,-30, 20, 21, 22,-30, 28, 29],\n",
    "\t[  3,-30,  5,  6,  7,  8,-30, 10,-30,-30,-30, 14, 15,-30, 19,-30, 23, 24,-30, 30],\n",
    "\t[  4,  5,-30,-30,-30,  9, 10, 11, 12, 13,-30, 15, 16, 17, 18,-30, 24, 25,-30, 31],\n",
    "\t[-30,  6,-30,-30,-30, 10,-30, 12, 13,-30, 17,-30, 17, 18, 19,-30, 25, 26,-30,-30],\n",
    "\t[-30,-30,-30,-30,-30,-30, 14, 13, 14, 15, 16,-30,-30, 19, 20,-30, 26,-30,-30,-30],\n",
    "\t[ 31, 30,-30,-30,-30,-30, 15, 14, 15, 16,-30, 22, 21, 20,-30, 28, 27,-30,-30,-30],\n",
    "\t[-30, 29, 30, 31,-30, 17, 16, 15, 16, 17,-30, 23, 22, 21, 22,-30, 28,-30,-30,-30],\n",
    "\t[-30, 28, 29,-30,-30, 18, 17, 16,-30,-30, 25, 24, 23, 22, 23, 24,-30,-30,-30,-30],\n",
    "\t[ 28, 27, 28,-30, 20, 19, 18,-30, 22, 23,-30, 25, 24, 23, 24, 25, 26,-30,-30,-30],\n",
    "\t[ 27, 26,-30, 22, 21, 20, 19, 20, 21, 22, 23,-30, 25, 24, 25, 26, 27,-30,-30, 32],\n",
    "\t[ 26, 25, 24, 23, 22,-30, 20, 21, 22,-30, 24, 25, 26,-30,-30,-30, 28, 29, 30, 31],\n",
    "\t[ 27, 26, 25, 24, 23,-30, 21, 22, 23,-30, 25, 26, 27, 28, 29, 30, 29, 30, 31, 32]]\n",
    ")"
   ]
  },
  {
   "cell_type": "code",
   "execution_count": 51,
   "metadata": {
    "scrolled": true
   },
   "outputs": [
    {
     "name": "stdout",
     "output_type": "stream",
     "text": [
      "DEBUG:matplotlib.colorbar:locator: <matplotlib.colorbar._ColorbarAutoLocator object at 0x7fcca51981c0>\n",
      "DEBUG:matplotlib.colorbar:Using auto colorbar locator <matplotlib.colorbar._ColorbarAutoLocator object at 0x7fcca51981c0> on colorbar\n",
      "DEBUG:matplotlib.colorbar:Setting pcolormesh\n",
      "DEBUG:matplotlib.axes._base:top of axes not in the figure, so title not moved\n",
      "DEBUG:matplotlib.axes._base:top of axes not in the figure, so title not moved\n",
      "DEBUG:matplotlib.axes._base:top of axes not in the figure, so title not moved\n",
      "DEBUG:matplotlib.axes._base:top of axes not in the figure, so title not moved\n",
      "DEBUG:matplotlib.axes._base:top of axes not in the figure, so title not moved\n"
     ]
    },
    {
     "data": {
      "image/png": "[encoded data removed]",
      "text/plain": [
       "<Figure size 432x288 with 2 Axes>"
      ]
     },
     "metadata": {},
     "output_type": "display_data"
    }
   ],
   "source": [
    "ax = sns.heatmap(data, linewidths=.1, cmap=\"YlGnBu\")"
   ]
  },
  {
   "cell_type": "code",
   "execution_count": null,
   "metadata": {},
   "outputs": [],
   "source": []
  }
 ],
 "metadata": {
  "kernelspec": {
   "display_name": "Python 3",
   "language": "python",
   "name": "python3"
  },
  "language_info": {
   "codemirror_mode": {
    "name": "ipython",
    "version": 3
   },
   "file_extension": ".py",
   "mimetype": "text/x-python",
   "name": "python",
   "nbconvert_exporter": "python",
   "pygments_lexer": "ipython3",
   "version": "3.8.5"
  }
 },
 "nbformat": 4,
 "nbformat_minor": 4
}
